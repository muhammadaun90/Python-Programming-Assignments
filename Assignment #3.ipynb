{
 "cells": [
  {
   "cell_type": "code",
   "execution_count": 3,
   "metadata": {},
   "outputs": [
    {
     "ename": "SyntaxError",
     "evalue": "invalid syntax (<ipython-input-3-4576a38e8722>, line 1)",
     "output_type": "error",
     "traceback": [
      "\u001b[1;36m  File \u001b[1;32m\"<ipython-input-3-4576a38e8722>\"\u001b[1;36m, line \u001b[1;32m1\u001b[0m\n\u001b[1;33m    add (num1, num2):\u001b[0m\n\u001b[1;37m                     ^\u001b[0m\n\u001b[1;31mSyntaxError\u001b[0m\u001b[1;31m:\u001b[0m invalid syntax\n"
     ]
    }
   ],
   "source": [
    "#task_1\n",
    "add (num1, num2):\n",
    "    return num1 + num2\n",
    "subtract (num1, num2):\n",
    "    return num1 - num2\n",
    "divide (num1, num2):\n",
    "    return num1 / num2\n",
    "multiply (num1, num2):\n",
    "    return num1 * num2\n",
    "print(\"Please select operation -\\n\" \\ \n",
    "        \"1. Add\\n\" \\ \n",
    "        \"2. Subtract\\n\" \\ \n",
    "        \"3. Multiply\\n\" \\ \n",
    "        \"4. Divide\\n\")\n",
    "a = int(input(\"Enter any number\"))\n",
    "b = int(input(\"Enter any number\"))\n",
    "if select == '1': \n",
    "    print(num1, \"+\", num2, \"=\", add(num1, num2))\n",
    "elif select == '2': \n",
    "    print(num1, \"-\", num2, \"=\", subtract(add(num1, num2)) \n",
    "elif select == '3': \n",
    "    print(num1, \"*\", num2, \"=\", multiply(num1, num2)) \n",
    "elif select == '4': \n",
    "    print(num1, \"/\", num2, \"=\", divide(num1, num2)) \n",
    "else: \n",
    "    print(\"Invalid input\")"
   ]
  },
  {
   "cell_type": "code",
   "execution_count": 4,
   "metadata": {},
   "outputs": [
    {
     "name": "stdout",
     "output_type": "stream",
     "text": [
      "9\n",
      "geeksforgeeks\n",
      "6\n",
      "ayu\n"
     ]
    }
   ],
   "source": [
    "#task_2\n",
    "string ='123geeks456for789geeks'\n",
    "count = 0\n",
    "newstring1 =\"\"\n",
    "newstring2 =\"\"    \n",
    "# Iterating the string and checking for numeric characters \n",
    "# Incrementing the counter if a numeric character is found \n",
    "# And adding the character to new string if not numeric \n",
    "# Finally printing the count and the newstring \n",
    "for a in string:\n",
    "    if (a.isnumeric()) == True:\n",
    "        count+= 1\n",
    "    else:\n",
    "        newstring1+= a \n",
    "print(count) \n",
    "print(newstring1)  \n",
    "string ='123ayu456'\n",
    "count = 0\n",
    "for a in string: \n",
    "    if (a.isnumeric()) == True:\n",
    "        count+= 1\n",
    "    else:\n",
    "        newstring2+= a \n",
    "print(count) \n",
    "print(newstring2)"
   ]
  },
  {
   "cell_type": "code",
   "execution_count": 5,
   "metadata": {},
   "outputs": [
    {
     "name": "stdout",
     "output_type": "stream",
     "text": [
      "{'first name': 'Muhammad', 'last name': 'Aun', 'address': '123 street sector x', 'langugage': 'English'}\n"
     ]
    }
   ],
   "source": [
    "#task_3\n",
    "customer_1234 = {\n",
    "    \"first name\": \"Muhammad\",\n",
    "    \"last name\" : \"Aun\",\n",
    "    \"address\" : \"123 street sector x\"\n",
    "}\n",
    "customer_1234[\"langugage\"] = \"English\"\n",
    "print(customer_1234)"
   ]
  },
  {
   "cell_type": "code",
   "execution_count": 7,
   "metadata": {},
   "outputs": [
    {
     "name": "stdout",
     "output_type": "stream",
     "text": [
      "first name keys\n",
      "last name keys\n",
      "address keys\n",
      "langugage keys\n"
     ]
    },
    {
     "ename": "AttributeError",
     "evalue": "'dict' object has no attribute 'value'",
     "output_type": "error",
     "traceback": [
      "\u001b[1;31m---------------------------------------------------------------------------\u001b[0m",
      "\u001b[1;31mAttributeError\u001b[0m                            Traceback (most recent call last)",
      "\u001b[1;32m<ipython-input-7-c35d033fc853>\u001b[0m in \u001b[0;36m<module>\u001b[1;34m\u001b[0m\n\u001b[0;32m      1\u001b[0m \u001b[1;32mfor\u001b[0m \u001b[0meach_value\u001b[0m \u001b[1;32min\u001b[0m \u001b[0mcustomer_1234\u001b[0m\u001b[1;33m.\u001b[0m\u001b[0mkeys\u001b[0m\u001b[1;33m(\u001b[0m\u001b[1;33m)\u001b[0m\u001b[1;33m:\u001b[0m\u001b[1;33m\u001b[0m\u001b[1;33m\u001b[0m\u001b[0m\n\u001b[0;32m      2\u001b[0m     \u001b[0mprint\u001b[0m\u001b[1;33m(\u001b[0m\u001b[0meach_value\u001b[0m\u001b[1;33m,\u001b[0m \u001b[1;34m'keys'\u001b[0m\u001b[1;33m)\u001b[0m\u001b[1;33m\u001b[0m\u001b[1;33m\u001b[0m\u001b[0m\n\u001b[1;32m----> 3\u001b[1;33m \u001b[1;32mfor\u001b[0m \u001b[0meach_value\u001b[0m \u001b[1;32min\u001b[0m \u001b[0mcustomer_1234\u001b[0m\u001b[1;33m.\u001b[0m\u001b[0mvalue\u001b[0m\u001b[1;33m(\u001b[0m\u001b[1;33m)\u001b[0m\u001b[1;33m:\u001b[0m\u001b[1;33m\u001b[0m\u001b[1;33m\u001b[0m\u001b[0m\n\u001b[0m\u001b[0;32m      4\u001b[0m     \u001b[0mprint\u001b[0m\u001b[1;33m(\u001b[0m\u001b[0meach_value\u001b[0m\u001b[1;33m,\u001b[0m \u001b[1;34m'value'\u001b[0m\u001b[1;33m)\u001b[0m\u001b[1;33m\u001b[0m\u001b[1;33m\u001b[0m\u001b[0m\n",
      "\u001b[1;31mAttributeError\u001b[0m: 'dict' object has no attribute 'value'"
     ]
    }
   ],
   "source": [
    "#task_3_continue\n",
    "for each_value in customer_1234.keys():\n",
    "    print(each_value, 'keys')\n",
    "for each_value in customer_1234.value():\n",
    "    print(each_value, 'value')"
   ]
  },
  {
   "cell_type": "code",
   "execution_count": 8,
   "metadata": {},
   "outputs": [
    {
     "name": "stdout",
     "output_type": "stream",
     "text": [
      "The customer's first nameis Muhammad\n",
      "The customer's last nameis Aun\n",
      "The customer's addressis 123 street sector x\n",
      "The customer's langugageis English\n"
     ]
    }
   ],
   "source": [
    "for each_key, each_value in customer_1234.items():\n",
    "    print(\"The customer's \" + each_key + \"is \" +each_value)"
   ]
  },
  {
   "cell_type": "code",
   "execution_count": null,
   "metadata": {},
   "outputs": [],
   "source": []
  },
  {
   "cell_type": "code",
   "execution_count": 10,
   "metadata": {},
   "outputs": [
    {
     "name": "stdout",
     "output_type": "stream",
     "text": [
      "Total sum of values in the dictionary:\n",
      "879\n"
     ]
    }
   ],
   "source": [
    "#task_4\n",
    "dict={'A':100,'B':540,'C':239}\n",
    "print(\"Total sum of values in the dictionary:\")\n",
    "print(sum(dict.values()))"
   ]
  },
  {
   "cell_type": "code",
   "execution_count": 14,
   "metadata": {},
   "outputs": [
    {
     "data": {
      "text/plain": [
       "[20]"
      ]
     },
     "execution_count": 14,
     "metadata": {},
     "output_type": "execute_result"
    }
   ],
   "source": [
    "#task_5\n",
    "my_list = [20, 30, 25, 20]\n",
    "from collections import Counter\n",
    "[k for k,v in Counter(my_list).items() if v>1]"
   ]
  },
  {
   "cell_type": "code",
   "execution_count": 15,
   "metadata": {},
   "outputs": [
    {
     "name": "stdout",
     "output_type": "stream",
     "text": [
      "Present,  value = 200\n",
      "Not present\n"
     ]
    }
   ],
   "source": [
    "#task_6\n",
    "def checkKey(dict, key):\n",
    "    if key in dict.keys():\n",
    "        print(\"Present, \", end =\" \")\n",
    "        print(\"value =\", dict[key])\n",
    "    else:\n",
    "        print(\"Not present\") \n",
    "#Driver Code \n",
    "dict = {'a': 100, 'b':200, 'c':300} \n",
    "key = 'b'\n",
    "checkKey(dict, key) \n",
    "key = 'w'\n",
    "checkKey(dict, key)"
   ]
  },
  {
   "cell_type": "code",
   "execution_count": null,
   "metadata": {},
   "outputs": [],
   "source": []
  }
 ],
 "metadata": {
  "kernelspec": {
   "display_name": "Python 3",
   "language": "python",
   "name": "python3"
  },
  "language_info": {
   "codemirror_mode": {
    "name": "ipython",
    "version": 3
   },
   "file_extension": ".py",
   "mimetype": "text/x-python",
   "name": "python",
   "nbconvert_exporter": "python",
   "pygments_lexer": "ipython3",
   "version": "3.7.4"
  }
 },
 "nbformat": 4,
 "nbformat_minor": 2
}
